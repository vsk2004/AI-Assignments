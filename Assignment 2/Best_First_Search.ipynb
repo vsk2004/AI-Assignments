{
 "cells": [
  {
   "cell_type": "markdown",
   "id": "70118fd5",
   "metadata": {},
   "source": [
    "### given an n × n binary matrix grid. Your task is to implement and compare two\n",
    "search algorithms to find a path from the top-left cell (0, 0) to the bottom-right cell (n\n",
    "- 1, n - 1).\n",
    "A clear path is defined as:\n",
    "1.​ All visited cells along the path must have a value of 0.​\n",
    "2.​ Moves can be made 8-directionally — i.e., from a cell, you may move to another\n",
    "cell that is horizontally, vertically, or diagonally adjacent.​\n",
    "3.​ The length of the path is the total number of visited cells.​"
   ]
  },
  {
   "cell_type": "code",
   "execution_count": 19,
   "id": "8a1a1c86",
   "metadata": {},
   "outputs": [],
   "source": [
    "class State:\n",
    "    \n",
    "    def __init__(self,i,j,grid,cost):\n",
    "        self.grid = grid\n",
    "        self.i = i\n",
    "        self.j = j\n",
    "        self.n = len(grid)\n",
    "        self.cost = cost\n",
    "        \n",
    "    def goalTest(self):\n",
    "        return self.i == self.n-1 and self.j == self.n-1\n",
    "\n",
    "    def moveGen(self):\n",
    "        children = []\n",
    "        dr = [-1,1,0,0,-1,1,-1,1]\n",
    "        dc = [0,0,-1,1,1,-1,-1,1]\n",
    "        for k in range(0,8):\n",
    "            nr = self.i + dr[k]\n",
    "            nc = self.j + dc[k]\n",
    "            if 0<=nr<self.n and 0<=nc<self.n and self.grid[nr][nc]==0:\n",
    "                children.append(State(nr,nc,self.grid,self.cost+1))\n",
    "        return children\n",
    "    \n",
    "    def __eq__(self, other):\n",
    "        return self.i==other.i and self.j==other.j\n",
    "\n",
    "    def __hash__(self):\n",
    "        return hash(self.i+self.j+self.cost)\n",
    "    \n",
    "    def __str__(self):\n",
    "        return f\"i:{self.i},j:{self.j},cost:{self.cost}\"\n",
    "    \n",
    "    def h(self):\n",
    "        dx = abs(self.i-self.n+1)\n",
    "        dy = abs(self.j-self.n+1)\n",
    "        return abs(dx - dy) + min(dx,dy)"
   ]
  },
  {
   "cell_type": "code",
   "execution_count": 20,
   "id": "8b890dd7",
   "metadata": {},
   "outputs": [
    {
     "name": "stdout",
     "output_type": "stream",
     "text": [
      "False\n",
      "i:1,j:0,cost:1\n",
      "i:0,j:1,cost:1\n",
      "2\n"
     ]
    }
   ],
   "source": [
    "grid = [[0, 0, 0],[0, 1, 0],[0, 0, 0]]\n",
    "start = State(0, 0, grid,0)\n",
    "print(start.goalTest())\n",
    "for child in start.moveGen():\n",
    "  print(child)\n",
    "print(start.h())"
   ]
  },
  {
   "cell_type": "code",
   "execution_count": 21,
   "id": "8086a49e",
   "metadata": {},
   "outputs": [],
   "source": [
    "def reconstructPath(pmap,node):\n",
    "    path = [node]\n",
    "    parent = pmap[node]\n",
    "    while parent:\n",
    "        path.append(parent)\n",
    "        parent = pmap[parent]\n",
    "    \n",
    "    return path\n",
    "\n",
    "def removeSeen(child,OPEN,CLOSED):\n",
    "    return [n for n in child if n not in OPEN and n not in CLOSED]"
   ]
  },
  {
   "cell_type": "code",
   "execution_count": 22,
   "id": "0e9d49c1",
   "metadata": {},
   "outputs": [],
   "source": [
    "def bestFirstSearch(start):\n",
    "    OPEN = [start]\n",
    "    CLOSED = []\n",
    "    pmap = {start:None}\n",
    "    \n",
    "    while OPEN:\n",
    "        node = min(OPEN,key=lambda x : x.h())\n",
    "        OPEN.remove(node)\n",
    "        CLOSED.append(node)\n",
    "        if(node.goalTest()):\n",
    "            return reconstructPath(pmap,node)\n",
    "        else:\n",
    "            child = node.moveGen()\n",
    "            valid = removeSeen(child,OPEN,CLOSED)\n",
    "            pmap.update({n:node for n in valid})\n",
    "            OPEN = OPEN + valid\n",
    "    return []"
   ]
  },
  {
   "cell_type": "code",
   "execution_count": 23,
   "id": "a17275eb",
   "metadata": {},
   "outputs": [
    {
     "name": "stdout",
     "output_type": "stream",
     "text": [
      "i:2,j:2,cost:3\n",
      "i:2,j:1,cost:2\n",
      "i:1,j:0,cost:1\n",
      "i:0,j:0,cost:0\n"
     ]
    }
   ],
   "source": [
    "path = bestFirstSearch(start)\n",
    "for n in path:\n",
    "    print(n)"
   ]
  },
  {
   "cell_type": "code",
   "execution_count": null,
   "id": "f62e4948",
   "metadata": {},
   "outputs": [],
   "source": []
  }
 ],
 "metadata": {
  "kernelspec": {
   "display_name": "base",
   "language": "python",
   "name": "python3"
  },
  "language_info": {
   "codemirror_mode": {
    "name": "ipython",
    "version": 3
   },
   "file_extension": ".py",
   "mimetype": "text/x-python",
   "name": "python",
   "nbconvert_exporter": "python",
   "pygments_lexer": "ipython3",
   "version": "3.12.2"
  }
 },
 "nbformat": 4,
 "nbformat_minor": 5
}
